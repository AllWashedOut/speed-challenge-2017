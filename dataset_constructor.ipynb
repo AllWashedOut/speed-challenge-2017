{
 "cells": [
  {
   "cell_type": "code",
   "execution_count": 1,
   "metadata": {},
   "outputs": [],
   "source": [
    "test_meta = pd.read_csv(os.path.join(CLEAN_DATA_PATH, 'test_meta.csv'))\n",
    "assert(train_meta.shape[0] == test_frames)\n",
    "assert(train_meta.shape[1] == 3)"
   ]
  },
  {
   "cell_type": "code",
   "execution_count": 2,
   "metadata": {},
   "outputs": [],
   "source": [
    "import numpy as np\n",
    "import pandas as pd\n",
    "import matplotlib.pyplot as plt\n",
    "import matplotlib.image as mpimg\n",
    "import os\n",
    "import csv\n",
    "import skvideo.io\n",
    "from tqdm import tqdm\n",
    "%matplotlib inline"
   ]
  },
  {
   "cell_type": "code",
   "execution_count": 3,
   "metadata": {},
   "outputs": [],
   "source": [
    "test_meta = pd.read_csv(os.path.join(CLEAN_DATA_PATH, 'test_meta.csv'))\n",
    "assert(train_meta.shape[0] == test_frames)\n",
    "assert(train_meta.shape[1] == 3)"
   ]
  },
  {
   "cell_type": "code",
   "execution_count": 4,
   "metadata": {},
   "outputs": [],
   "source": [
    "# constants\n",
    "DATA_PATH = '/kaggle/dev/speed-challenge-2017-data/data'\n",
    "TRAIN_VIDEO = os.path.join(DATA_PATH, 'train.mp4')\n",
    "TEST_VIDEO = os.path.join(DATA_PATH, 'test.mp4')\n",
    "CLEAN_DATA_PATH = '/kaggle/dev/speed-challenge-2017-data/clean_data'\n",
    "CLEAN_IMGS_TRAIN = os.path.join(CLEAN_DATA_PATH, 'train_imgs')\n",
    "CLEAN_IMGS_TEST = os.path.join(CLEAN_DATA_PATH, 'test_imgs')\n",
    "\n",
    "train_frames = 20400\n",
    "test_frames = 1020"
   ]
  },
  {
   "cell_type": "code",
   "execution_count": 5,
   "metadata": {},
   "outputs": [],
   "source": [
    "test_meta = pd.read_csv(os.path.join(CLEAN_DATA_PATH, 'test_meta.csv'))\n",
    "assert(train_meta.shape[0] == test_frames)\n",
    "assert(train_meta.shape[1] == 3)"
   ]
  },
  {
   "cell_type": "code",
   "execution_count": 6,
   "metadata": {},
   "outputs": [],
   "source": [
    "test_meta = pd.read_csv(os.path.join(CLEAN_DATA_PATH, 'test_meta.csv'))\n",
    "assert(test_meta.shape[0] == test_frames)\n",
    "assert(test_meta.shape[1] == 3)"
   ]
  },
  {
   "cell_type": "code",
   "execution_count": 7,
   "metadata": {},
   "outputs": [],
   "source": [
    "# constants\n",
    "DATA_PATH = '/kaggle/dev/speed-challenge-2017-data/data'\n",
    "TRAIN_VIDEO = os.path.join(DATA_PATH, 'train.mp4')\n",
    "TEST_VIDEO = os.path.join(DATA_PATH, 'test.mp4')\n",
    "CLEAN_DATA_PATH = '/kaggle/dev/speed-challenge-2017-data/clean_data'\n",
    "CLEAN_IMGS_TRAIN = os.path.join(CLEAN_DATA_PATH, 'train_imgs')\n",
    "CLEAN_IMGS_TEST = os.path.join(CLEAN_DATA_PATH, 'test_imgs')\n",
    "\n",
    "train_frames = 20400\n",
    "test_frames = 10798"
   ]
  },
  {
   "cell_type": "code",
   "execution_count": 8,
   "metadata": {},
   "outputs": [],
   "source": [
    "test_meta = pd.read_csv(os.path.join(CLEAN_DATA_PATH, 'test_meta.csv'))\n",
    "assert(test_meta.shape[0] == test_frames)\n",
    "assert(test_meta.shape[1] == 3)"
   ]
  },
  {
   "cell_type": "code",
   "execution_count": 9,
   "metadata": {},
   "outputs": [],
   "source": [
    "test_meta.head()"
   ]
  },
  {
   "cell_type": "code",
   "execution_count": 10,
   "metadata": {},
   "outputs": [],
   "source": [
    "for i in range(50):\n",
    "    print('speed:',test_meta['speed'][i] )\n",
    "    img=mpimg.imread(test_meta['image_path'][i])\n",
    "    plt.imshow(img)\n",
    "    plt.show()"
   ]
  },
  {
   "cell_type": "code",
   "execution_count": 11,
   "metadata": {},
   "outputs": [],
   "source": [
    "%save"
   ]
  },
  {
   "cell_type": "code",
   "execution_count": 12,
   "metadata": {},
   "outputs": [],
   "source": [
    "%save"
   ]
  },
  {
   "cell_type": "code",
   "execution_count": 13,
   "metadata": {},
   "outputs": [],
   "source": [
    "%save current_session"
   ]
  },
  {
   "cell_type": "code",
   "execution_count": 14,
   "metadata": {},
   "outputs": [],
   "source": [
    "%notebook -e dataset_constructor.ipynb."
   ]
  },
  {
   "cell_type": "code",
   "execution_count": 15,
   "metadata": {},
   "outputs": [],
   "source": [
    "%notebook -e dataset_constructor.ipynb"
   ]
  }
 ],
 "metadata": {},
 "nbformat": 4,
 "nbformat_minor": 2
}
